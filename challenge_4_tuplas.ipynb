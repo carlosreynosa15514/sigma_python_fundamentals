{
 "cells": [
  {
   "cell_type": "markdown",
   "id": "98326bdd",
   "metadata": {},
   "source": [
    "# Challenge 4 - Actividad Clase 4 - Sep 01 - 2022\n",
    "* Nombre: Carlos Moreno Quintanar\n",
    "* Email. cmoreno@sigma-alimentos.com"
   ]
  },
  {
   "cell_type": "code",
   "execution_count": 1,
   "id": "555e7ea4",
   "metadata": {},
   "outputs": [
    {
     "name": "stdout",
     "output_type": "stream",
     "text": [
      "('cadena', 12345, 1.654, True, {'id': 1})\n",
      "<class 'tuple'>\n"
     ]
    }
   ],
   "source": [
    "# 1.- Crea una tupla con una longitud de 5 usando diferentes tipos de datos    \n",
    "tupla = (\"cadena\", 12345, 1.654, True, {'id':1})\n",
    "print(tupla)\n",
    "print(type(tupla))"
   ]
  },
  {
   "cell_type": "code",
   "execution_count": 2,
   "id": "10a58a45",
   "metadata": {},
   "outputs": [
    {
     "name": "stdout",
     "output_type": "stream",
     "text": [
      "['cadena', 12345, 1.654, True, {'id': 1}]\n",
      "<class 'list'>\n"
     ]
    }
   ],
   "source": [
    "# 2.- Cambiar la tupla a lista\n",
    "lista = list(tupla)\n",
    "print(lista)\n",
    "print(type(lista))"
   ]
  },
  {
   "cell_type": "code",
   "execution_count": 3,
   "id": "4c110769",
   "metadata": {},
   "outputs": [
    {
     "name": "stdout",
     "output_type": "stream",
     "text": [
      "{1: 'cadena', 2: 12345, 3: 1.654, 4: True, 5: {'id': 1}}\n"
     ]
    }
   ],
   "source": [
    "# 3.- Crea un diccionario donde la clave sea del 1 al 5 y los elementos sean los datos de la lista\n",
    "claves = list(range(1,6))\n",
    "diccionario = dict(zip(claves,lista))\n",
    "print(diccionario)"
   ]
  },
  {
   "cell_type": "code",
   "execution_count": null,
   "id": "9c971873",
   "metadata": {},
   "outputs": [],
   "source": []
  }
 ],
 "metadata": {
  "kernelspec": {
   "display_name": "Python 3",
   "language": "python",
   "name": "python3"
  },
  "language_info": {
   "codemirror_mode": {
    "name": "ipython",
    "version": 3
   },
   "file_extension": ".py",
   "mimetype": "text/x-python",
   "name": "python",
   "nbconvert_exporter": "python",
   "pygments_lexer": "ipython3",
   "version": "3.6.13"
  }
 },
 "nbformat": 4,
 "nbformat_minor": 5
}
