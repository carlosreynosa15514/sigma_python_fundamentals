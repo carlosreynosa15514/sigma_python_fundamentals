{
 "cells": [
  {
   "cell_type": "markdown",
   "id": "f5ae158f",
   "metadata": {},
   "source": [
    "# Sesion 5 - 2 Sep 2022 - Numpy 1"
   ]
  },
  {
   "cell_type": "markdown",
   "id": "fff73a60",
   "metadata": {},
   "source": [
    "## Challenge Sesion 5 Numpy 1\n",
    "* Carlos Moreno Quintanar\n",
    "* email: cmoreno@sigma-alimentos.com"
   ]
  },
  {
   "cell_type": "code",
   "execution_count": 1,
   "id": "34a19e3b",
   "metadata": {},
   "outputs": [],
   "source": [
    "# Importando libreria\n",
    "import numpy as np"
   ]
  },
  {
   "cell_type": "markdown",
   "id": "1b3d1be9",
   "metadata": {},
   "source": [
    "### Actividad 1\n",
    "Crea un vector con valores dentro del rango 3 al numero que representa tu edad"
   ]
  },
  {
   "cell_type": "code",
   "execution_count": 10,
   "id": "39d26fa6",
   "metadata": {},
   "outputs": [
    {
     "name": "stdout",
     "output_type": "stream",
     "text": [
      "Solucion actividad 1\n",
      "[ 3  4  5  6  7  8  9 10 11 12 13 14 15 16 17 18 19 20 21 22 23 24 25 26\n",
      " 27 28 29 30 31 32 33 34 35 36 37 38 39 40 41 42 43 44 45 46 47 48 49 50\n",
      " 51 52 53 54 55 56]\n",
      "El tipo de dato del vector es <class 'numpy.ndarray'>\n"
     ]
    }
   ],
   "source": [
    "# 1.- Crea un vector con valores dentro del rango 3 al numero que representa tu edad\n",
    "vector = np.arange(3, 57)\n",
    "print(\"Solucion actividad 1\")\n",
    "print(vector)\n",
    "print(f\"El tipo de dato del vector es {type(vector)}\")"
   ]
  },
  {
   "cell_type": "markdown",
   "id": "85741d4f",
   "metadata": {},
   "source": [
    "### Actividad 2\n",
    "Crea un arreglo con los siguientes elementos: [0,1,2,3,4,0,1,2,3,4]"
   ]
  },
  {
   "cell_type": "code",
   "execution_count": 12,
   "id": "283cc56b",
   "metadata": {},
   "outputs": [
    {
     "name": "stdout",
     "output_type": "stream",
     "text": [
      "Solucion actividad 2\n",
      "[0 1 2 3 4 0 1 2 3 4]\n",
      "El tipo de dato del arreglo es <class 'numpy.ndarray'>\n"
     ]
    }
   ],
   "source": [
    "# 2.- Crea un arreglo con los siguientes elementos: [0,1,2,3,4,0,1,2,3,4]\n",
    "arreglo = np.array([0,1,2,3,4,0,1,2,3,4])\n",
    "print(\"Solucion actividad 2\")\n",
    "print(arreglo)\n",
    "print(f\"El tipo de dato del arreglo es {type(arreglo)}\")"
   ]
  },
  {
   "cell_type": "markdown",
   "id": "9fca42e7",
   "metadata": {},
   "source": [
    "### Actividad 3\n",
    "Ordena de forma ascendente dicho arreglo"
   ]
  },
  {
   "cell_type": "code",
   "execution_count": 13,
   "id": "babd9a79",
   "metadata": {},
   "outputs": [
    {
     "name": "stdout",
     "output_type": "stream",
     "text": [
      "Solucion actividad 3\n",
      "Arreglo ordenado: [0 0 1 1 2 2 3 3 4 4]\n"
     ]
    }
   ],
   "source": [
    "# 3.- Ordena de forma ascendente dicho arreglo\n",
    "print(\"Solucion actividad 3\")\n",
    "print(f\"Arreglo ordenado: {np.sort(arreglo)}\")"
   ]
  },
  {
   "cell_type": "code",
   "execution_count": null,
   "id": "85bb1743",
   "metadata": {},
   "outputs": [],
   "source": []
  }
 ],
 "metadata": {
  "kernelspec": {
   "display_name": "Python 3",
   "language": "python",
   "name": "python3"
  },
  "language_info": {
   "codemirror_mode": {
    "name": "ipython",
    "version": 3
   },
   "file_extension": ".py",
   "mimetype": "text/x-python",
   "name": "python",
   "nbconvert_exporter": "python",
   "pygments_lexer": "ipython3",
   "version": "3.6.13"
  },
  "varInspector": {
   "cols": {
    "lenName": 16,
    "lenType": 16,
    "lenVar": 40
   },
   "kernels_config": {
    "python": {
     "delete_cmd_postfix": "",
     "delete_cmd_prefix": "del ",
     "library": "var_list.py",
     "varRefreshCmd": "print(var_dic_list())"
    },
    "r": {
     "delete_cmd_postfix": ") ",
     "delete_cmd_prefix": "rm(",
     "library": "var_list.r",
     "varRefreshCmd": "cat(var_dic_list()) "
    }
   },
   "types_to_exclude": [
    "module",
    "function",
    "builtin_function_or_method",
    "instance",
    "_Feature"
   ],
   "window_display": false
  }
 },
 "nbformat": 4,
 "nbformat_minor": 5
}
