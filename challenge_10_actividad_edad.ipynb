{
 "cells": [
  {
   "cell_type": "markdown",
   "id": "27bc03d3",
   "metadata": {},
   "source": [
    "# Sesion 10 - Actividad: Edad -\n",
    "* Actividad: Básica\n",
    "* Hagamos un programa que determine si eres mayor de edad o no.\n",
    "<hr>\n",
    "* Actividad: Avanzada\n",
    "* Hagamos un programa que determine si eres mayor de edad o no y que determine tu género."
   ]
  },
  {
   "cell_type": "code",
   "execution_count": 9,
   "id": "dd450f2e",
   "metadata": {},
   "outputs": [
    {
     "name": "stdout",
     "output_type": "stream",
     "text": [
      "Cual es tu edad? 10\n",
      "Con 10 años, eres Menor de Edad\n"
     ]
    }
   ],
   "source": [
    "# Hagamos un programa que determine si eres mayor de edad o no.\n",
    "\n",
    "edad = int(input(\"Cual es tu edad? \"))\n",
    "if edad <= 0:\n",
    "    print(\"Tu Edad debe ser Mayor que 0, intenta de nuevo\")\n",
    "elif edad < 18:\n",
    "    print(\"Con {0} años, eres Menor de Edad\".format(edad))\n",
    "else:\n",
    "    print(\"Con {0} años, eres Mayor de Edad\".format(edad))"
   ]
  },
  {
   "cell_type": "code",
   "execution_count": 16,
   "id": "d3fae3dc",
   "metadata": {},
   "outputs": [
    {
     "name": "stdout",
     "output_type": "stream",
     "text": [
      "Cual es tu edad? 10\n",
      "Con 10 años, eres Menor de Edad\n",
      "Elige Genero [M/F] a\n",
      "A\n",
      "Solo puedes elegir 'M' o 'F', intenta de nuevo\n"
     ]
    }
   ],
   "source": [
    "# Hagamos un programa que determine si eres mayor de edad o no y que determine tu género.\n",
    "edad2 = int(input(\"Cual es tu edad? \"))\n",
    "if edad2 <= 0:\n",
    "    print(\"Tu Edad debe ser Mayor que 0, intenta de nuevo\")\n",
    "elif edad2 < 18:\n",
    "    print(\"Con {0} años, eres Menor de Edad\".format(edad2))\n",
    "else:\n",
    "    print(\"Con {0} años, eres Mayor de Edad\".format(edad2))\n",
    "\n",
    "genero = input(\"Elige Genero [M/F] \").upper()\n",
    "if genero != \"M\" and genero != \"F\":\n",
    "    print(\"Solo puedes elegir 'M' o 'F', intenta de nuevo\")\n",
    "elif genero == \"M\":\n",
    "    print(\"Genero Masculino\")\n",
    "else:\n",
    "    print(\"Genero Femenino\")\n",
    "        "
   ]
  },
  {
   "cell_type": "code",
   "execution_count": null,
   "id": "3caece37",
   "metadata": {},
   "outputs": [],
   "source": []
  }
 ],
 "metadata": {
  "kernelspec": {
   "display_name": "Python 3",
   "language": "python",
   "name": "python3"
  },
  "language_info": {
   "codemirror_mode": {
    "name": "ipython",
    "version": 3
   },
   "file_extension": ".py",
   "mimetype": "text/x-python",
   "name": "python",
   "nbconvert_exporter": "python",
   "pygments_lexer": "ipython3",
   "version": "3.6.13"
  },
  "varInspector": {
   "cols": {
    "lenName": 16,
    "lenType": 16,
    "lenVar": 40
   },
   "kernels_config": {
    "python": {
     "delete_cmd_postfix": "",
     "delete_cmd_prefix": "del ",
     "library": "var_list.py",
     "varRefreshCmd": "print(var_dic_list())"
    },
    "r": {
     "delete_cmd_postfix": ") ",
     "delete_cmd_prefix": "rm(",
     "library": "var_list.r",
     "varRefreshCmd": "cat(var_dic_list()) "
    }
   },
   "types_to_exclude": [
    "module",
    "function",
    "builtin_function_or_method",
    "instance",
    "_Feature"
   ],
   "window_display": false
  }
 },
 "nbformat": 4,
 "nbformat_minor": 5
}
