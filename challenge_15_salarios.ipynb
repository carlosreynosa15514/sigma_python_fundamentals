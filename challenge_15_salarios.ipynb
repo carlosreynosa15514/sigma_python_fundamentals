{
 "cells": [
  {
   "cell_type": "markdown",
   "id": "8f89f0f0",
   "metadata": {},
   "source": [
    "# Sesion 15 - Actividad: Salarios\n",
    "Actividad Básica\n",
    "\n",
    "Obtén la diferencia entre el salario más alto y el más pequeño.\n",
    " \n",
    "\n",
    "Actividad Avanzada\n",
    "\n",
    "Obtén los valores estadísticos de los salarios. (media, mediana, desviación estándar, etc)"
   ]
  },
  {
   "cell_type": "code",
   "execution_count": 1,
   "id": "41be1e2d",
   "metadata": {},
   "outputs": [],
   "source": [
    "# Se importa pandas\n",
    "import pandas as pd"
   ]
  },
  {
   "cell_type": "code",
   "execution_count": 2,
   "id": "523c662a",
   "metadata": {},
   "outputs": [],
   "source": [
    "# Datos en un diccionario para crear un DataFrame\n",
    "my_dict = {\n",
    "    'name'  : ['Kevin', 'Geroge', 'Jane', 'Mel', 'Thomas', 'Erica', 'Lisa',],\n",
    "    'age'   : [20,27,35,55,18,21,35],\n",
    "    'salary': [30000,45000,55000,78000,28000,32000,70000],\n",
    "    'gender': ['M', 'M', 'F', 'F', 'M', 'F', 'F']\n",
    "}"
   ]
  },
  {
   "cell_type": "code",
   "execution_count": 4,
   "id": "b8eced94",
   "metadata": {},
   "outputs": [
    {
     "data": {
      "text/html": [
       "<div>\n",
       "<style scoped>\n",
       "    .dataframe tbody tr th:only-of-type {\n",
       "        vertical-align: middle;\n",
       "    }\n",
       "\n",
       "    .dataframe tbody tr th {\n",
       "        vertical-align: top;\n",
       "    }\n",
       "\n",
       "    .dataframe thead th {\n",
       "        text-align: right;\n",
       "    }\n",
       "</style>\n",
       "<table border=\"1\" class=\"dataframe\">\n",
       "  <thead>\n",
       "    <tr style=\"text-align: right;\">\n",
       "      <th></th>\n",
       "      <th>name</th>\n",
       "      <th>age</th>\n",
       "      <th>salary</th>\n",
       "      <th>gender</th>\n",
       "    </tr>\n",
       "  </thead>\n",
       "  <tbody>\n",
       "    <tr>\n",
       "      <th>0</th>\n",
       "      <td>Kevin</td>\n",
       "      <td>20</td>\n",
       "      <td>30000</td>\n",
       "      <td>M</td>\n",
       "    </tr>\n",
       "    <tr>\n",
       "      <th>1</th>\n",
       "      <td>Geroge</td>\n",
       "      <td>27</td>\n",
       "      <td>45000</td>\n",
       "      <td>M</td>\n",
       "    </tr>\n",
       "    <tr>\n",
       "      <th>2</th>\n",
       "      <td>Jane</td>\n",
       "      <td>35</td>\n",
       "      <td>55000</td>\n",
       "      <td>F</td>\n",
       "    </tr>\n",
       "    <tr>\n",
       "      <th>3</th>\n",
       "      <td>Mel</td>\n",
       "      <td>55</td>\n",
       "      <td>78000</td>\n",
       "      <td>F</td>\n",
       "    </tr>\n",
       "    <tr>\n",
       "      <th>4</th>\n",
       "      <td>Thomas</td>\n",
       "      <td>18</td>\n",
       "      <td>28000</td>\n",
       "      <td>M</td>\n",
       "    </tr>\n",
       "    <tr>\n",
       "      <th>5</th>\n",
       "      <td>Erica</td>\n",
       "      <td>21</td>\n",
       "      <td>32000</td>\n",
       "      <td>F</td>\n",
       "    </tr>\n",
       "    <tr>\n",
       "      <th>6</th>\n",
       "      <td>Lisa</td>\n",
       "      <td>35</td>\n",
       "      <td>70000</td>\n",
       "      <td>F</td>\n",
       "    </tr>\n",
       "  </tbody>\n",
       "</table>\n",
       "</div>"
      ],
      "text/plain": [
       "     name  age  salary gender\n",
       "0   Kevin   20   30000      M\n",
       "1  Geroge   27   45000      M\n",
       "2    Jane   35   55000      F\n",
       "3     Mel   55   78000      F\n",
       "4  Thomas   18   28000      M\n",
       "5   Erica   21   32000      F\n",
       "6    Lisa   35   70000      F"
      ]
     },
     "execution_count": 4,
     "metadata": {},
     "output_type": "execute_result"
    }
   ],
   "source": [
    "# Se crea el DataFrame\n",
    "df = pd.DataFrame(my_dict)\n",
    "df"
   ]
  },
  {
   "cell_type": "code",
   "execution_count": 8,
   "id": "4c7c0158",
   "metadata": {},
   "outputs": [
    {
     "name": "stdout",
     "output_type": "stream",
     "text": [
      "La diferencia entre la edad maxima 55 y la minima 18 es: 37\n"
     ]
    }
   ],
   "source": [
    "# Obtén la diferencia entre el salario más alto y el más pequeño.\n",
    "diferencia = df['age'].max() - df['age'].min()\n",
    "print(\"La diferencia entre la edad maxima {0} y la minima {1} es: {2}\"\n",
    "     .format(df['age'].max(), df['age'].min(), diferencia ))"
   ]
  },
  {
   "cell_type": "code",
   "execution_count": 10,
   "id": "d56e6b6f",
   "metadata": {},
   "outputs": [
    {
     "name": "stdout",
     "output_type": "stream",
     "text": [
      "count        7.000000\n",
      "mean     48285.714286\n",
      "std      20089.087301\n",
      "min      28000.000000\n",
      "25%      31000.000000\n",
      "50%      45000.000000\n",
      "75%      62500.000000\n",
      "max      78000.000000\n",
      "Name: salary, dtype: float64\n"
     ]
    }
   ],
   "source": [
    "# Obtén los valores estadísticos de los salarios. (media, mediana, desviación estándar, etc)\n",
    "valores_estadisticos_salarios = df['salary'].describe()\n",
    "print(valores_estadisticos_salarios)"
   ]
  },
  {
   "cell_type": "code",
   "execution_count": null,
   "id": "36962619",
   "metadata": {},
   "outputs": [],
   "source": []
  }
 ],
 "metadata": {
  "kernelspec": {
   "display_name": "Python 3",
   "language": "python",
   "name": "python3"
  },
  "language_info": {
   "codemirror_mode": {
    "name": "ipython",
    "version": 3
   },
   "file_extension": ".py",
   "mimetype": "text/x-python",
   "name": "python",
   "nbconvert_exporter": "python",
   "pygments_lexer": "ipython3",
   "version": "3.6.13"
  },
  "varInspector": {
   "cols": {
    "lenName": 16,
    "lenType": 16,
    "lenVar": 40
   },
   "kernels_config": {
    "python": {
     "delete_cmd_postfix": "",
     "delete_cmd_prefix": "del ",
     "library": "var_list.py",
     "varRefreshCmd": "print(var_dic_list())"
    },
    "r": {
     "delete_cmd_postfix": ") ",
     "delete_cmd_prefix": "rm(",
     "library": "var_list.r",
     "varRefreshCmd": "cat(var_dic_list()) "
    }
   },
   "types_to_exclude": [
    "module",
    "function",
    "builtin_function_or_method",
    "instance",
    "_Feature"
   ],
   "window_display": false
  }
 },
 "nbformat": 4,
 "nbformat_minor": 5
}
