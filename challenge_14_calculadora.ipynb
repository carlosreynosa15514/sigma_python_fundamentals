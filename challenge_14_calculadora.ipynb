{
 "cells": [
  {
   "cell_type": "markdown",
   "id": "f97cc79d",
   "metadata": {},
   "source": [
    "# Sesion 14 - Actividad - Calculadora\n",
    "Actividad: Básica\n",
    "\n",
    "* Crear una calculadora con al menos 4 operaciones básicas\n",
    " \n",
    "\n",
    "Actividad: Avanzada\n",
    "\n",
    "* Crear una calculadora con al menos 4 operaciones básicas + raíz cuadrada y elevar a una potencia."
   ]
  },
  {
   "cell_type": "code",
   "execution_count": 2,
   "id": "c1287e8c",
   "metadata": {},
   "outputs": [],
   "source": [
    "# Se crea la clase\n",
    "class Calculadora:\n",
    "    \n",
    "    # se crea el contructor de la clase\n",
    "    def __init__(self, numero1, numero2):\n",
    "        self.numero1 = numero1\n",
    "        self.numero2 = numero2\n",
    "    \n",
    "    # Se crea el metodo suma\n",
    "    def suma(self):\n",
    "        resultado = self.numero1 + self.numero2\n",
    "        return resultado\n",
    "\n",
    "    def resta(self):\n",
    "        resultado = self.numero1 - self.numero2\n",
    "        return resultado\n",
    "\n",
    "    def multiplicacion(self):\n",
    "        resultado = self.numero1 * self.numero2\n",
    "        return resultado\n",
    "\n",
    "    def division(self):\n",
    "        resultado = self.numero1 / self.numero2\n",
    "        return resultado\n",
    "    \n",
    "    def potencia(self):\n",
    "        resultado = self.numero1 ** self.numero2\n",
    "        return resultado\n",
    "        "
   ]
  },
  {
   "cell_type": "code",
   "execution_count": 3,
   "id": "1d3b14b1",
   "metadata": {},
   "outputs": [],
   "source": [
    "# Se crea una instancia de la\n",
    "calc = Calculadora(100,25.10)"
   ]
  },
  {
   "cell_type": "code",
   "execution_count": 6,
   "id": "05fbd879",
   "metadata": {},
   "outputs": [
    {
     "name": "stdout",
     "output_type": "stream",
     "text": [
      "125.1\n",
      "74.9\n",
      "2510.0\n",
      "3.98406374501992\n",
      "1.5848931924611238e+50\n"
     ]
    }
   ],
   "source": [
    "# Se imoprimen los resultados de los metodos\n",
    "print(calc.suma())\n",
    "print(calc.resta())\n",
    "print(calc.multiplicacion())\n",
    "print(calc.division())\n",
    "print(calc.potencia())\n"
   ]
  },
  {
   "cell_type": "code",
   "execution_count": null,
   "id": "ef481110",
   "metadata": {},
   "outputs": [],
   "source": []
  }
 ],
 "metadata": {
  "kernelspec": {
   "display_name": "Python 3",
   "language": "python",
   "name": "python3"
  },
  "language_info": {
   "codemirror_mode": {
    "name": "ipython",
    "version": 3
   },
   "file_extension": ".py",
   "mimetype": "text/x-python",
   "name": "python",
   "nbconvert_exporter": "python",
   "pygments_lexer": "ipython3",
   "version": "3.6.13"
  },
  "varInspector": {
   "cols": {
    "lenName": 16,
    "lenType": 16,
    "lenVar": 40
   },
   "kernels_config": {
    "python": {
     "delete_cmd_postfix": "",
     "delete_cmd_prefix": "del ",
     "library": "var_list.py",
     "varRefreshCmd": "print(var_dic_list())"
    },
    "r": {
     "delete_cmd_postfix": ") ",
     "delete_cmd_prefix": "rm(",
     "library": "var_list.r",
     "varRefreshCmd": "cat(var_dic_list()) "
    }
   },
   "types_to_exclude": [
    "module",
    "function",
    "builtin_function_or_method",
    "instance",
    "_Feature"
   ],
   "window_display": false
  }
 },
 "nbformat": 4,
 "nbformat_minor": 5
}
