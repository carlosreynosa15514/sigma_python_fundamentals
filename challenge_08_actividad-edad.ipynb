{
 "cells": [
  {
   "cell_type": "markdown",
   "id": "8c30ca9a",
   "metadata": {},
   "source": [
    "# Sesion 08 - Operadores Relacionales\n",
    "## Challenge Sesion 08\n",
    "* Carlos Moreno\n",
    "* cmoreno@sigma-alimentos.com"
   ]
  },
  {
   "cell_type": "markdown",
   "id": "83897485",
   "metadata": {},
   "source": [
    "1.-El doble de mi edad tiene 24 años, ¿cuántos años tengo? <br>\n",
    "2.- A un tercio de la edad de mi hermana la disminuyo en 15 años. Tengo 6  años. ¿Qué edad tiene? <br>\n",
    "3.-Determina quién es más grande <br>\n",
    "<hr>"
   ]
  },
  {
   "cell_type": "code",
   "execution_count": 7,
   "id": "475fb03a",
   "metadata": {},
   "outputs": [
    {
     "name": "stdout",
     "output_type": "stream",
     "text": [
      "Mi edad es 12 años\n"
     ]
    }
   ],
   "source": [
    "# 1.-El doble de mi edad tiene 24 años, ¿cuántos años tengo?\n",
    "\n",
    "# Solucion\n",
    "# 2x = 24\n",
    "\n",
    "# Se despeja le x\n",
    "x = 24/2\n",
    "print(f\"Mi edad es {int(x)} años\")"
   ]
  },
  {
   "cell_type": "code",
   "execution_count": 9,
   "id": "ab5f02d7",
   "metadata": {},
   "outputs": [
    {
     "data": {
      "text/plain": [
       "63.0"
      ]
     },
     "execution_count": 9,
     "metadata": {},
     "output_type": "execute_result"
    }
   ],
   "source": [
    "# 2.- A un tercio de la edad de mi hermana la disminuyo en 15 años. Tengo 6 años. ¿Qué edad tiene?\n",
    "\n",
    "# Solucion\n",
    "# 1/3y - 15 = 6\n",
    "# 1/3y = 6 + 15\n",
    "# 1/3y = 21\n",
    "\n",
    "# Se despeja la y\n",
    "y = 21/(1/3)\n",
    "y"
   ]
  },
  {
   "cell_type": "code",
   "execution_count": 14,
   "id": "8a38d3f3",
   "metadata": {},
   "outputs": [
    {
     "name": "stdout",
     "output_type": "stream",
     "text": [
      "COMPROBACION: \n",
      "Un tercio de la edad de mi hermana 63.0 es 21.0 - 15 es mi edad 6.0\n"
     ]
    }
   ],
   "source": [
    "# Comprobacion\n",
    "print(f\"COMPROBACION: \\nUn tercio de la edad de mi hermana {y} es {y/3} - 15 es mi edad {(63/3)-15}\")"
   ]
  },
  {
   "cell_type": "code",
   "execution_count": 17,
   "id": "a472b440",
   "metadata": {},
   "outputs": [
    {
     "name": "stdout",
     "output_type": "stream",
     "text": [
      "Mi hermana tiene 63.0 años, es mas grande\n"
     ]
    }
   ],
   "source": [
    "# 3.-Determina quién es más grande\n",
    "if x > y:\n",
    "    print(f\"Tengo {x} años, yo soy mas grande\")\n",
    "else:\n",
    "    print(f\"Mi hermana tiene {y} años, es mas grande\")"
   ]
  },
  {
   "cell_type": "code",
   "execution_count": null,
   "id": "2213f7b0",
   "metadata": {},
   "outputs": [],
   "source": []
  }
 ],
 "metadata": {
  "kernelspec": {
   "display_name": "Python 3",
   "language": "python",
   "name": "python3"
  },
  "language_info": {
   "codemirror_mode": {
    "name": "ipython",
    "version": 3
   },
   "file_extension": ".py",
   "mimetype": "text/x-python",
   "name": "python",
   "nbconvert_exporter": "python",
   "pygments_lexer": "ipython3",
   "version": "3.6.13"
  },
  "varInspector": {
   "cols": {
    "lenName": 16,
    "lenType": 16,
    "lenVar": 40
   },
   "kernels_config": {
    "python": {
     "delete_cmd_postfix": "",
     "delete_cmd_prefix": "del ",
     "library": "var_list.py",
     "varRefreshCmd": "print(var_dic_list())"
    },
    "r": {
     "delete_cmd_postfix": ") ",
     "delete_cmd_prefix": "rm(",
     "library": "var_list.r",
     "varRefreshCmd": "cat(var_dic_list()) "
    }
   },
   "types_to_exclude": [
    "module",
    "function",
    "builtin_function_or_method",
    "instance",
    "_Feature"
   ],
   "window_display": false
  }
 },
 "nbformat": 4,
 "nbformat_minor": 5
}
