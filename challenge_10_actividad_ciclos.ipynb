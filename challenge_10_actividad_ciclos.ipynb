{
 "cells": [
  {
   "cell_type": "markdown",
   "id": "622e7079",
   "metadata": {},
   "source": [
    "# Challenge Sesion 10  - Ciclos"
   ]
  },
  {
   "cell_type": "markdown",
   "id": "3eb9772a",
   "metadata": {},
   "source": [
    "### Actividad 1\n",
    "* Hagamos un programa que determine si eres mayor de edad o  no"
   ]
  },
  {
   "cell_type": "code",
   "execution_count": 7,
   "id": "66d5f378",
   "metadata": {},
   "outputs": [
    {
     "name": "stdout",
     "output_type": "stream",
     "text": [
      "Cual es tu nombre: Carlos\n",
      "Hola Carlos cual es tu edad: 20\n"
     ]
    }
   ],
   "source": [
    "nombre = input(\"Cual es tu nombre: \")\n",
    "edad = int(input(\"Hola {0} cual es tu edad: \".format(nombre)))"
   ]
  },
  {
   "cell_type": "code",
   "execution_count": 9,
   "id": "af368a67",
   "metadata": {},
   "outputs": [
    {
     "name": "stdout",
     "output_type": "stream",
     "text": [
      "Carlos con la edad de 20 eres Mayor de Edad\n"
     ]
    }
   ],
   "source": [
    "if edad >= 18:\n",
    "    print(\"{0} con la edad de {1} eres Mayor de Edad\".format(nombre, edad))\n",
    "else:\n",
    "    print(\"{0} con la edad de {1} eres Menor de Edad\".format(nombre, edad))"
   ]
  },
  {
   "cell_type": "markdown",
   "id": "dddb56d6",
   "metadata": {},
   "source": [
    "### Actividad 2\n",
    "* Pídale al usuario que ingrese dos números y muestre cuál de  los dos es menor. Considere el caso en el que ambos números  son iguales."
   ]
  },
  {
   "cell_type": "code",
   "execution_count": 15,
   "id": "8877b029",
   "metadata": {},
   "outputs": [
    {
     "name": "stdout",
     "output_type": "stream",
     "text": [
      "Escriba su nombre: Carlos\n",
      "Carlos escribe un Numero: -850.65\n",
      "escribe otro numero por favor: -0.001\n",
      "\n",
      "Carlos el numero -850.65 es Menor que el numero -0.001\n",
      "\n",
      "Gracias por Participar Carlos !\n"
     ]
    }
   ],
   "source": [
    "nombre2 = input(\"Escriba su nombre: \")\n",
    "num1 = float(input(\"{0} escribe un Numero: \".format(nombre2)))\n",
    "num2 = float(input(\"escribe otro numero por favor: \"))\n",
    "\n",
    "if num1 > num2:\n",
    "    print(\"\\n{0} el numero {1} es Menor que el numero {2}\".format(nombre2, num2, num1))\n",
    "elif num2 > num1:\n",
    "    print(\"\\n{0} el numero {1} es Menor que el numero {2}\".format(nombre2, num1, num2))\n",
    "else:\n",
    "    print(\"\\n{0} el numero1 vale: {1} y el numero2 vale: {2} son iguales!!\".format(nombre2, num1, num2))\n",
    "\n",
    "print(\"\\nGracias por Participar {0} !\".format(nombre2))"
   ]
  },
  {
   "cell_type": "code",
   "execution_count": null,
   "id": "d6a8110f",
   "metadata": {},
   "outputs": [],
   "source": [
    "\n"
   ]
  }
 ],
 "metadata": {
  "kernelspec": {
   "display_name": "Python 3",
   "language": "python",
   "name": "python3"
  },
  "language_info": {
   "codemirror_mode": {
    "name": "ipython",
    "version": 3
   },
   "file_extension": ".py",
   "mimetype": "text/x-python",
   "name": "python",
   "nbconvert_exporter": "python",
   "pygments_lexer": "ipython3",
   "version": "3.6.13"
  },
  "varInspector": {
   "cols": {
    "lenName": 16,
    "lenType": 16,
    "lenVar": 40
   },
   "kernels_config": {
    "python": {
     "delete_cmd_postfix": "",
     "delete_cmd_prefix": "del ",
     "library": "var_list.py",
     "varRefreshCmd": "print(var_dic_list())"
    },
    "r": {
     "delete_cmd_postfix": ") ",
     "delete_cmd_prefix": "rm(",
     "library": "var_list.r",
     "varRefreshCmd": "cat(var_dic_list()) "
    }
   },
   "types_to_exclude": [
    "module",
    "function",
    "builtin_function_or_method",
    "instance",
    "_Feature"
   ],
   "window_display": false
  }
 },
 "nbformat": 4,
 "nbformat_minor": 5
}
